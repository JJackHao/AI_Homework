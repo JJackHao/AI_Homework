{
 "cells": [
  {
   "cell_type": "code",
   "execution_count": null,
   "metadata": {},
   "outputs": [],
   "source": [
    "# Use a pipeline as a high-level helper\n",
    "from transformers import pipeline\n",
    "from dotenv import load_dotenv\n",
    "from openai import OpenAI"
   ]
  },
  {
   "cell_type": "code",
   "execution_count": null,
   "metadata": {},
   "outputs": [],
   "source": [
    "load_dotenv()"
   ]
  },
  {
   "cell_type": "code",
   "execution_count": null,
   "metadata": {},
   "outputs": [],
   "source": [
    "img_to_text_pipe = pipeline(\"image-to-text\", model=\"Salesforce/blip-image-captioning-large\")\n",
    "text = img_to_text_pipe()[0][\"generated_text\"]\n",
    "print(text)"
   ]
  },
  {
   "cell_type": "code",
   "execution_count": null,
   "metadata": {},
   "outputs": [],
   "source": [
    "client = OpenAI()\n",
    "\n",
    "msg_list = [{\"role\": \"system\", \"content\": \"You are a talented poet, expanding a short sentence into a poem of fewer than 100 words.\"}]\n",
    "msg = {\"role\": \"user\", \"content\": text}\n",
    "msg_list.append(msg)\n",
    "\n",
    "completion = client.chat.completions.create(\n",
    "  model=\"gpt-4o\",\n",
    "  temperature=0.2,\n",
    "  max_completion_tokens=200,\n",
    "  messages= msg_list\n",
    ")\n",
    "\n",
    "out_msg = completion.choices[0].message\n",
    "print(out_msg)"
   ]
  }
 ],
 "metadata": {
  "kernelspec": {
   "display_name": ".venvH2",
   "language": "python",
   "name": "python3"
  },
  "language_info": {
   "name": "python",
   "version": "3.12.6"
  }
 },
 "nbformat": 4,
 "nbformat_minor": 2
}
